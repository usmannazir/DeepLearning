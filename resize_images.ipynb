{
 "cells": [
  {
   "cell_type": "code",
   "execution_count": 1,
   "metadata": {},
   "outputs": [],
   "source": [
    "import cv2\n",
    "import os\n",
    "import time"
   ]
  },
  {
   "cell_type": "code",
   "execution_count": 2,
   "metadata": {},
   "outputs": [],
   "source": [
    "def create_directory(directory):\n",
    "    \"\"\"\n",
    "    Creates a new folder in the specified directory if folder doesn't exist.\n",
    "\n",
    "    INPUT\n",
    "        directory: Folder to be created, called as \"folder/\".\n",
    "\n",
    "    OUTPUT\n",
    "        New folder in the current directory.\n",
    "    \"\"\"\n",
    "    if not os.path.exists(directory):\n",
    "        os.makedirs(directory)\n",
    "\n",
    "\n",
    "def crop_and_resize_images(path, new_path, img_size):\n",
    "    \"\"\"\n",
    "    Crops, resizes, and stores all images from a directory in a new directory.\n",
    "\n",
    "    INPUT\n",
    "        path: Path where the current, unscaled images are contained.\n",
    "        new_path: Path to save the resized images.\n",
    "        img_size: New size for the rescaled images.\n",
    "\n",
    "    OUTPUT\n",
    "        All images cropped, resized, and saved to the new folder.\n",
    "    \"\"\"\n",
    "    create_directory(new_path)\n",
    "    dirs = [l for l in os.listdir(path) if l != '.DS_Store']\n",
    "    # total = 0\n",
    "\n",
    "    for item in dirs:\n",
    "        # Read in all images\n",
    "        img = cv2.imread(path + item, cv2.IMREAD_ANYCOLOR | cv2.IMREAD_ANYDEPTH | cv2.IMREAD_UNCHANGED)\n",
    "        img = cv2.resize(img, (img_size, img_size))\n",
    "        #print(img)\n",
    "        cv2.imwrite(str(new_path + item), img)\n",
    "        # total += 1\n",
    "        # print(\"Saving: \", item, total)"
   ]
  },
  {
   "cell_type": "code",
   "execution_count": 15,
   "metadata": {},
   "outputs": [
    {
     "name": "stdout",
     "output_type": "stream",
     "text": [
      "Seconds:  10.076382160186768\n"
     ]
    }
   ],
   "source": [
    "if __name__ == '__main__':\n",
    "    start_time = time.time()\n",
    "    crop_and_resize_images(path='./dataset/train/tennis/', new_path='./dataset/train/tennis-64/', img_size=64)\n",
    "    print(\"Seconds: \", time.time() - start_time)\n"
   ]
  },
  {
   "cell_type": "code",
   "execution_count": null,
   "metadata": {},
   "outputs": [],
   "source": []
  },
  {
   "cell_type": "code",
   "execution_count": null,
   "metadata": {},
   "outputs": [],
   "source": []
  }
 ],
 "metadata": {
  "kernelspec": {
   "display_name": "Python 3",
   "language": "python",
   "name": "python3"
  },
  "language_info": {
   "codemirror_mode": {
    "name": "ipython",
    "version": 3
   },
   "file_extension": ".py",
   "mimetype": "text/x-python",
   "name": "python",
   "nbconvert_exporter": "python",
   "pygments_lexer": "ipython3",
   "version": "3.6.6"
  }
 },
 "nbformat": 4,
 "nbformat_minor": 2
}
