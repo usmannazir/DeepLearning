{
 "cells": [
  {
   "cell_type": "code",
   "execution_count": 1,
   "metadata": {},
   "outputs": [],
   "source": [
    "import os"
   ]
  },
  {
   "cell_type": "code",
   "execution_count": 2,
   "metadata": {},
   "outputs": [],
   "source": [
    "def read_Images(dataset_path, im_type):\n",
    "    import glob\n",
    "    paths_X = []   \n",
    "    labels = [] \n",
    "    i = 0\n",
    "    folders = sorted(os.listdir(dataset_path))\n",
    "    for folder in folders:\n",
    "        temp = sorted (glob.glob(os.path.join(dataset_path,folder+'/*'+im_type)))\n",
    "        for k in range(len(temp)):\n",
    "            labels.append (i)\n",
    "        paths_X += temp\n",
    "        i += 1\n",
    "        \n",
    "    if(len(paths_X)==0):\n",
    "        print ('Dataset could not found. Please provide correct path.')\n",
    "    return paths_X, labels"
   ]
  },
  {
   "cell_type": "code",
   "execution_count": 3,
   "metadata": {},
   "outputs": [],
   "source": [
    "dataset_path = 'dataset/train'\n",
    "paths, labels = read_Images(dataset_path, '[(.png)(.jpg)]')"
   ]
  },
  {
   "cell_type": "code",
   "execution_count": 5,
   "metadata": {},
   "outputs": [
    {
     "data": {
      "text/plain": [
       "6402"
      ]
     },
     "execution_count": 5,
     "metadata": {},
     "output_type": "execute_result"
    }
   ],
   "source": [
    "len(labels)"
   ]
  },
  {
   "cell_type": "code",
   "execution_count": null,
   "metadata": {},
   "outputs": [],
   "source": []
  }
 ],
 "metadata": {
  "kernelspec": {
   "display_name": "Python 3",
   "language": "python",
   "name": "python3"
  },
  "language_info": {
   "codemirror_mode": {
    "name": "ipython",
    "version": 3
   },
   "file_extension": ".py",
   "mimetype": "text/x-python",
   "name": "python",
   "nbconvert_exporter": "python",
   "pygments_lexer": "ipython3",
   "version": "3.6.4"
  }
 },
 "nbformat": 4,
 "nbformat_minor": 2
}
